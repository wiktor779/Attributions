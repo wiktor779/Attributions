{
 "cells": [
  {
   "cell_type": "code",
   "execution_count": 1,
   "metadata": {},
   "outputs": [],
   "source": [
    "import sys\n",
    "sys.path.append('../')\n",
    "from src.utils import *\n",
    "from src.first_and_last_touch_model import *"
   ]
  },
  {
   "cell_type": "code",
   "execution_count": 3,
   "metadata": {
    "scrolled": true
   },
   "outputs": [],
   "source": [
    "df = load_data()\n",
    "# df = remove_direct_entries(df)\n",
    "# df = remove_outliers_z_score(df, 3.5)\n",
    "# df = transform_utm_columns_into_list_of_strings(df)"
   ]
  },
  {
   "cell_type": "code",
   "execution_count": 2,
   "metadata": {},
   "outputs": [],
   "source": [
    "df = load_data()\n",
    "df = create_touch_columns(df)"
   ]
  },
  {
   "cell_type": "code",
   "execution_count": 6,
   "metadata": {},
   "outputs": [],
   "source": [
    "impact_dict = predict_channel_impact(df, 'first_touch_utm_source', True)"
   ]
  },
  {
   "cell_type": "code",
   "execution_count": 7,
   "metadata": {},
   "outputs": [
    {
     "data": {
      "text/plain": [
       "{'synerise': 0.2,\n",
       " 'facebook.com': 0.1,\n",
       " 'facebook': 0.14,\n",
       " 'google': 0.36,\n",
       " 'google.com': 0.09,\n",
       " 'bing.com': 0.11}"
      ]
     },
     "execution_count": 7,
     "metadata": {},
     "output_type": "execute_result"
    }
   ],
   "source": [
    "impact_dict"
   ]
  },
  {
   "cell_type": "code",
   "execution_count": 11,
   "metadata": {},
   "outputs": [
    {
     "data": {
      "image/png": "[encoded data removed]",
      "text/plain": [
       "<Figure size 640x480 with 1 Axes>"
      ]
     },
     "metadata": {},
     "output_type": "display_data"
    }
   ],
   "source": [
    "from matplotlib.pyplot import figure\n",
    "figure(num=None, figsize=(8, 6), dpi=80, facecolor='w', edgecolor='k')\n",
    "D = impact_dict\n",
    "plt.bar(range(len(D)), list(D.values()), align='center')\n",
    "plt.xticks(range(len(D)), list(D.keys()))\n",
    "# # for python 2.x:\n",
    "# plt.bar(range(len(D)), D.values(), align='center')  # python 2.x\n",
    "# plt.xticks(range(len(D)), D.keys())  # in python 2.x\n",
    "\n",
    "plt.show()"
   ]
  },
  {
   "cell_type": "code",
   "execution_count": 4,
   "metadata": {},
   "outputs": [
    {
     "name": "stdout",
     "output_type": "stream",
     "text": [
      "{'synerise': 0.2, 'facebook.com': 0.1, 'facebook': 0.14, 'google': 0.36, 'google.com': 0.09, 'bing.com': 0.11}\n"
     ]
    }
   ],
   "source": [
    "print(predict_channel_impact(df, 'first_touch_utm_source', True))"
   ]
  },
  {
   "cell_type": "code",
   "execution_count": 5,
   "metadata": {},
   "outputs": [
    {
     "data": {
      "text/plain": [
       "459917"
      ]
     },
     "execution_count": 5,
     "metadata": {},
     "output_type": "execute_result"
    }
   ],
   "source": [
    "len(df)"
   ]
  },
  {
   "cell_type": "code",
   "execution_count": 5,
   "metadata": {},
   "outputs": [
    {
     "data": {
      "text/html": [
       "<div>\n",
       "<style scoped>\n",
       "    .dataframe tbody tr th:only-of-type {\n",
       "        vertical-align: middle;\n",
       "    }\n",
       "\n",
       "    .dataframe tbody tr th {\n",
       "        vertical-align: top;\n",
       "    }\n",
       "\n",
       "    .dataframe thead th {\n",
       "        text-align: right;\n",
       "    }\n",
       "</style>\n",
       "<table border=\"1\" class=\"dataframe\">\n",
       "  <thead>\n",
       "    <tr style=\"text-align: right;\">\n",
       "      <th></th>\n",
       "      <th>client_uuid</th>\n",
       "      <th>revenue</th>\n",
       "      <th>utm_source</th>\n",
       "      <th>utm_medium</th>\n",
       "      <th>event_dates</th>\n",
       "      <th>event_timestamps</th>\n",
       "      <th>days_till_conversions</th>\n",
       "      <th>conversion_date</th>\n",
       "      <th>conversion_timestamp</th>\n",
       "      <th>first_touch_utm_source</th>\n",
       "      <th>last_touch_utm_source</th>\n",
       "      <th>first_touch_utm_medium</th>\n",
       "      <th>last_touch_utm_medium</th>\n",
       "    </tr>\n",
       "  </thead>\n",
       "  <tbody>\n",
       "    <tr>\n",
       "      <th>0</th>\n",
       "      <td>46843260447612932</td>\n",
       "      <td>1597.00</td>\n",
       "      <td>[(direct)]</td>\n",
       "      <td>[(none)]</td>\n",
       "      <td>['2019-08-02']</td>\n",
       "      <td>['2019-08-02 01:36:17']</td>\n",
       "      <td>[0]</td>\n",
       "      <td>2019-08-02</td>\n",
       "      <td>2019-08-02 01:36:17</td>\n",
       "      <td>None</td>\n",
       "      <td>(direct)</td>\n",
       "      <td>None</td>\n",
       "      <td>(none)</td>\n",
       "    </tr>\n",
       "    <tr>\n",
       "      <th>1</th>\n",
       "      <td>73937596961622962</td>\n",
       "      <td>34.99</td>\n",
       "      <td>[(direct)]</td>\n",
       "      <td>[(none)]</td>\n",
       "      <td>['2019-07-19']</td>\n",
       "      <td>['2019-07-19 15:27:24']</td>\n",
       "      <td>[14]</td>\n",
       "      <td>2019-08-02</td>\n",
       "      <td>2019-08-02 21:08:16</td>\n",
       "      <td>None</td>\n",
       "      <td>(direct)</td>\n",
       "      <td>None</td>\n",
       "      <td>(none)</td>\n",
       "    </tr>\n",
       "    <tr>\n",
       "      <th>2</th>\n",
       "      <td>94396730975196822</td>\n",
       "      <td>35.99</td>\n",
       "      <td>[(direct)]</td>\n",
       "      <td>[(none)]</td>\n",
       "      <td>['2019-08-02']</td>\n",
       "      <td>['2019-08-02 09:38:21']</td>\n",
       "      <td>[0]</td>\n",
       "      <td>2019-08-02</td>\n",
       "      <td>2019-08-02 09:38:21</td>\n",
       "      <td>None</td>\n",
       "      <td>(direct)</td>\n",
       "      <td>None</td>\n",
       "      <td>(none)</td>\n",
       "    </tr>\n",
       "    <tr>\n",
       "      <th>3</th>\n",
       "      <td>125013537097955872</td>\n",
       "      <td>34.99</td>\n",
       "      <td>[(direct)]</td>\n",
       "      <td>[(none)]</td>\n",
       "      <td>['2019-08-02']</td>\n",
       "      <td>['2019-08-02 15:15:40']</td>\n",
       "      <td>[0]</td>\n",
       "      <td>2019-08-02</td>\n",
       "      <td>2019-08-02 15:15:40</td>\n",
       "      <td>None</td>\n",
       "      <td>(direct)</td>\n",
       "      <td>None</td>\n",
       "      <td>(none)</td>\n",
       "    </tr>\n",
       "    <tr>\n",
       "      <th>4</th>\n",
       "      <td>162607037084320552</td>\n",
       "      <td>249.99</td>\n",
       "      <td>[synerise, facebook, (direct), (direct), syner...</td>\n",
       "      <td>[organic, cpc, (none), sms_text, organic]</td>\n",
       "      <td>['2019-07-17','2019-07-27','2019-07-27','2019-...</td>\n",
       "      <td>['2019-07-17 08:08:00','2019-07-27 08:32:10','...</td>\n",
       "      <td>[16,6,6,6,6]</td>\n",
       "      <td>2019-08-02</td>\n",
       "      <td>2019-08-02 07:38:58</td>\n",
       "      <td>synerise</td>\n",
       "      <td>synerise</td>\n",
       "      <td>organic</td>\n",
       "      <td>organic</td>\n",
       "    </tr>\n",
       "  </tbody>\n",
       "</table>\n",
       "</div>"
      ],
      "text/plain": [
       "          client_uuid  revenue  \\\n",
       "0   46843260447612932  1597.00   \n",
       "1   73937596961622962    34.99   \n",
       "2   94396730975196822    35.99   \n",
       "3  125013537097955872    34.99   \n",
       "4  162607037084320552   249.99   \n",
       "\n",
       "                                          utm_source  \\\n",
       "0                                         [(direct)]   \n",
       "1                                         [(direct)]   \n",
       "2                                         [(direct)]   \n",
       "3                                         [(direct)]   \n",
       "4  [synerise, facebook, (direct), (direct), syner...   \n",
       "\n",
       "                                  utm_medium  \\\n",
       "0                                   [(none)]   \n",
       "1                                   [(none)]   \n",
       "2                                   [(none)]   \n",
       "3                                   [(none)]   \n",
       "4  [organic, cpc, (none), sms_text, organic]   \n",
       "\n",
       "                                         event_dates  \\\n",
       "0                                     ['2019-08-02']   \n",
       "1                                     ['2019-07-19']   \n",
       "2                                     ['2019-08-02']   \n",
       "3                                     ['2019-08-02']   \n",
       "4  ['2019-07-17','2019-07-27','2019-07-27','2019-...   \n",
       "\n",
       "                                    event_timestamps days_till_conversions  \\\n",
       "0                            ['2019-08-02 01:36:17']                   [0]   \n",
       "1                            ['2019-07-19 15:27:24']                  [14]   \n",
       "2                            ['2019-08-02 09:38:21']                   [0]   \n",
       "3                            ['2019-08-02 15:15:40']                   [0]   \n",
       "4  ['2019-07-17 08:08:00','2019-07-27 08:32:10','...          [16,6,6,6,6]   \n",
       "\n",
       "  conversion_date conversion_timestamp first_touch_utm_source  \\\n",
       "0      2019-08-02  2019-08-02 01:36:17                   None   \n",
       "1      2019-08-02  2019-08-02 21:08:16                   None   \n",
       "2      2019-08-02  2019-08-02 09:38:21                   None   \n",
       "3      2019-08-02  2019-08-02 15:15:40                   None   \n",
       "4      2019-08-02  2019-08-02 07:38:58               synerise   \n",
       "\n",
       "  last_touch_utm_source first_touch_utm_medium last_touch_utm_medium  \n",
       "0              (direct)                   None                (none)  \n",
       "1              (direct)                   None                (none)  \n",
       "2              (direct)                   None                (none)  \n",
       "3              (direct)                   None                (none)  \n",
       "4              synerise                organic               organic  "
      ]
     },
     "execution_count": 5,
     "metadata": {},
     "output_type": "execute_result"
    }
   ],
   "source": [
    "df.head()"
   ]
  },
  {
   "cell_type": "code",
   "execution_count": 10,
   "metadata": {},
   "outputs": [
    {
     "data": {
      "text/html": [
       "<div>\n",
       "<style scoped>\n",
       "    .dataframe tbody tr th:only-of-type {\n",
       "        vertical-align: middle;\n",
       "    }\n",
       "\n",
       "    .dataframe tbody tr th {\n",
       "        vertical-align: top;\n",
       "    }\n",
       "\n",
       "    .dataframe thead th {\n",
       "        text-align: right;\n",
       "    }\n",
       "</style>\n",
       "<table border=\"1\" class=\"dataframe\">\n",
       "  <thead>\n",
       "    <tr style=\"text-align: right;\">\n",
       "      <th></th>\n",
       "      <th>client_uuid</th>\n",
       "      <th>revenue</th>\n",
       "      <th>utm_source</th>\n",
       "      <th>utm_medium</th>\n",
       "      <th>event_dates</th>\n",
       "      <th>event_timestamps</th>\n",
       "      <th>days_till_conversions</th>\n",
       "      <th>conversion_date</th>\n",
       "      <th>conversion_timestamp</th>\n",
       "      <th>first_touch_utm_source</th>\n",
       "      <th>last_touch_utm_source</th>\n",
       "      <th>first_touch_utm_medium</th>\n",
       "      <th>last_touch_utm_medium</th>\n",
       "    </tr>\n",
       "  </thead>\n",
       "  <tbody>\n",
       "    <tr>\n",
       "      <th>4</th>\n",
       "      <td>162607037084320552</td>\n",
       "      <td>249.99</td>\n",
       "      <td>[synerise, facebook, (direct), (direct), syner...</td>\n",
       "      <td>[organic, cpc, (none), sms_text, organic]</td>\n",
       "      <td>['2019-07-17','2019-07-27','2019-07-27','2019-...</td>\n",
       "      <td>['2019-07-17 08:08:00','2019-07-27 08:32:10','...</td>\n",
       "      <td>[16,6,6,6,6]</td>\n",
       "      <td>2019-08-02</td>\n",
       "      <td>2019-08-02 07:38:58</td>\n",
       "      <td>synerise</td>\n",
       "      <td>synerise</td>\n",
       "      <td>organic</td>\n",
       "      <td>organic</td>\n",
       "    </tr>\n",
       "    <tr>\n",
       "      <th>6</th>\n",
       "      <td>245479691431714732</td>\n",
       "      <td>173.94</td>\n",
       "      <td>[(direct), google.com, (direct), (direct)]</td>\n",
       "      <td>[(none), referral, sms_text, (none)]</td>\n",
       "      <td>['2019-07-22','2019-07-22','2019-07-22','2019-...</td>\n",
       "      <td>['2019-07-22 07:54:41','2019-07-22 07:57:21','...</td>\n",
       "      <td>[11,11,11,11]</td>\n",
       "      <td>2019-08-02</td>\n",
       "      <td>2019-08-02 17:45:23</td>\n",
       "      <td>google.com</td>\n",
       "      <td>(direct)</td>\n",
       "      <td>referral</td>\n",
       "      <td>(none)</td>\n",
       "    </tr>\n",
       "    <tr>\n",
       "      <th>12</th>\n",
       "      <td>423257530869390002</td>\n",
       "      <td>274.94</td>\n",
       "      <td>[(direct), facebook, google]</td>\n",
       "      <td>[sms_text, cpc, cpc]</td>\n",
       "      <td>['2019-05-31','2019-06-22','2019-06-22']</td>\n",
       "      <td>['2019-05-31 05:38:48','2019-06-22 05:22:16','...</td>\n",
       "      <td>[63,41,41]</td>\n",
       "      <td>2019-08-02</td>\n",
       "      <td>2019-08-02 07:41:15</td>\n",
       "      <td>facebook</td>\n",
       "      <td>google</td>\n",
       "      <td>sms_text</td>\n",
       "      <td>cpc</td>\n",
       "    </tr>\n",
       "    <tr>\n",
       "      <th>17</th>\n",
       "      <td>618125321206055252</td>\n",
       "      <td>269.99</td>\n",
       "      <td>[synerise, google, synerise, google, facebook]</td>\n",
       "      <td>[organic, web_push, organic, cpc, cpc]</td>\n",
       "      <td>['2019-07-17','2019-07-17','2019-07-19','2019-...</td>\n",
       "      <td>['2019-07-17 03:56:43','2019-07-17 03:57:26','...</td>\n",
       "      <td>[16,16,14,14,14]</td>\n",
       "      <td>2019-08-02</td>\n",
       "      <td>2019-08-02 12:44:58</td>\n",
       "      <td>synerise</td>\n",
       "      <td>facebook</td>\n",
       "      <td>organic</td>\n",
       "      <td>cpc</td>\n",
       "    </tr>\n",
       "    <tr>\n",
       "      <th>21</th>\n",
       "      <td>853710216256722922</td>\n",
       "      <td>169.80</td>\n",
       "      <td>[synerise]</td>\n",
       "      <td>[organic]</td>\n",
       "      <td>['2019-07-23']</td>\n",
       "      <td>['2019-07-23 09:09:49']</td>\n",
       "      <td>[10]</td>\n",
       "      <td>2019-08-02</td>\n",
       "      <td>2019-08-02 17:44:39</td>\n",
       "      <td>synerise</td>\n",
       "      <td>synerise</td>\n",
       "      <td>organic</td>\n",
       "      <td>organic</td>\n",
       "    </tr>\n",
       "    <tr>\n",
       "      <th>...</th>\n",
       "      <td>...</td>\n",
       "      <td>...</td>\n",
       "      <td>...</td>\n",
       "      <td>...</td>\n",
       "      <td>...</td>\n",
       "      <td>...</td>\n",
       "      <td>...</td>\n",
       "      <td>...</td>\n",
       "      <td>...</td>\n",
       "      <td>...</td>\n",
       "      <td>...</td>\n",
       "      <td>...</td>\n",
       "      <td>...</td>\n",
       "    </tr>\n",
       "    <tr>\n",
       "      <th>459911</th>\n",
       "      <td>9387008742826233182</td>\n",
       "      <td>345.00</td>\n",
       "      <td>[(direct), (direct), (direct), google.com, goo...</td>\n",
       "      <td>[(none), (none), (none), referral, web_push, s...</td>\n",
       "      <td>['2018-11-18','2018-12-20','2018-12-27','2018-...</td>\n",
       "      <td>['2018-11-18 01:57:22','2018-12-20 17:12:57','...</td>\n",
       "      <td>[41,9,2,2,2,2,2,2,2,2,2,2,2,2,0]</td>\n",
       "      <td>2018-12-29</td>\n",
       "      <td>2018-12-29 02:48:13</td>\n",
       "      <td>google.com</td>\n",
       "      <td>(direct)</td>\n",
       "      <td>referral</td>\n",
       "      <td>(none)</td>\n",
       "    </tr>\n",
       "    <tr>\n",
       "      <th>459913</th>\n",
       "      <td>11645035604004122502</td>\n",
       "      <td>107.89</td>\n",
       "      <td>[google, synerise, google, (direct)]</td>\n",
       "      <td>[web_push, organic, cpc, sms_text]</td>\n",
       "      <td>['2018-12-03','2018-12-29','2018-12-29','2018-...</td>\n",
       "      <td>['2018-12-03 14:58:36','2018-12-29 00:26:18','...</td>\n",
       "      <td>[26,0,0,0]</td>\n",
       "      <td>2018-12-29</td>\n",
       "      <td>2018-12-29 00:57:40</td>\n",
       "      <td>google</td>\n",
       "      <td>(direct)</td>\n",
       "      <td>web_push</td>\n",
       "      <td>sms_text</td>\n",
       "    </tr>\n",
       "    <tr>\n",
       "      <th>459914</th>\n",
       "      <td>11951134685027657952</td>\n",
       "      <td>338.00</td>\n",
       "      <td>[google]</td>\n",
       "      <td>[cpc]</td>\n",
       "      <td>['2018-12-29']</td>\n",
       "      <td>['2018-12-29 00:14:38']</td>\n",
       "      <td>[0]</td>\n",
       "      <td>2018-12-29</td>\n",
       "      <td>2018-12-29 00:19:01</td>\n",
       "      <td>google</td>\n",
       "      <td>google</td>\n",
       "      <td>cpc</td>\n",
       "      <td>cpc</td>\n",
       "    </tr>\n",
       "    <tr>\n",
       "      <th>459915</th>\n",
       "      <td>17520529140506420512</td>\n",
       "      <td>102.99</td>\n",
       "      <td>[(direct), (direct), (direct), (direct), (dire...</td>\n",
       "      <td>[(none), (none), (none), (none), (none), (none...</td>\n",
       "      <td>['2018-12-23','2018-12-23','2018-12-23','2018-...</td>\n",
       "      <td>['2018-12-23 02:15:19','2018-12-23 18:45:08','...</td>\n",
       "      <td>[6,6,6,6,5,4,3,1,1,1,0]</td>\n",
       "      <td>2018-12-29</td>\n",
       "      <td>2018-12-29 00:12:38</td>\n",
       "      <td>google</td>\n",
       "      <td>(direct)</td>\n",
       "      <td>cpc</td>\n",
       "      <td>(none)</td>\n",
       "    </tr>\n",
       "    <tr>\n",
       "      <th>459916</th>\n",
       "      <td>18190306648176601842</td>\n",
       "      <td>319.00</td>\n",
       "      <td>[google, google]</td>\n",
       "      <td>[e-mail, web_push]</td>\n",
       "      <td>['2018-12-28','2018-12-29']</td>\n",
       "      <td>['2018-12-28 17:09:07','2018-12-29 00:14:00']</td>\n",
       "      <td>[1,0]</td>\n",
       "      <td>2018-12-29</td>\n",
       "      <td>2018-12-29 00:21:12</td>\n",
       "      <td>google</td>\n",
       "      <td>google</td>\n",
       "      <td>e-mail</td>\n",
       "      <td>web_push</td>\n",
       "    </tr>\n",
       "  </tbody>\n",
       "</table>\n",
       "<p>268702 rows × 13 columns</p>\n",
       "</div>"
      ],
      "text/plain": [
       "                 client_uuid  revenue  \\\n",
       "4         162607037084320552   249.99   \n",
       "6         245479691431714732   173.94   \n",
       "12        423257530869390002   274.94   \n",
       "17        618125321206055252   269.99   \n",
       "21        853710216256722922   169.80   \n",
       "...                      ...      ...   \n",
       "459911   9387008742826233182   345.00   \n",
       "459913  11645035604004122502   107.89   \n",
       "459914  11951134685027657952   338.00   \n",
       "459915  17520529140506420512   102.99   \n",
       "459916  18190306648176601842   319.00   \n",
       "\n",
       "                                               utm_source  \\\n",
       "4       [synerise, facebook, (direct), (direct), syner...   \n",
       "6              [(direct), google.com, (direct), (direct)]   \n",
       "12                           [(direct), facebook, google]   \n",
       "17         [synerise, google, synerise, google, facebook]   \n",
       "21                                             [synerise]   \n",
       "...                                                   ...   \n",
       "459911  [(direct), (direct), (direct), google.com, goo...   \n",
       "459913               [google, synerise, google, (direct)]   \n",
       "459914                                           [google]   \n",
       "459915  [(direct), (direct), (direct), (direct), (dire...   \n",
       "459916                                   [google, google]   \n",
       "\n",
       "                                               utm_medium  \\\n",
       "4               [organic, cpc, (none), sms_text, organic]   \n",
       "6                    [(none), referral, sms_text, (none)]   \n",
       "12                                   [sms_text, cpc, cpc]   \n",
       "17                 [organic, web_push, organic, cpc, cpc]   \n",
       "21                                              [organic]   \n",
       "...                                                   ...   \n",
       "459911  [(none), (none), (none), referral, web_push, s...   \n",
       "459913                 [web_push, organic, cpc, sms_text]   \n",
       "459914                                              [cpc]   \n",
       "459915  [(none), (none), (none), (none), (none), (none...   \n",
       "459916                                 [e-mail, web_push]   \n",
       "\n",
       "                                              event_dates  \\\n",
       "4       ['2019-07-17','2019-07-27','2019-07-27','2019-...   \n",
       "6       ['2019-07-22','2019-07-22','2019-07-22','2019-...   \n",
       "12               ['2019-05-31','2019-06-22','2019-06-22']   \n",
       "17      ['2019-07-17','2019-07-17','2019-07-19','2019-...   \n",
       "21                                         ['2019-07-23']   \n",
       "...                                                   ...   \n",
       "459911  ['2018-11-18','2018-12-20','2018-12-27','2018-...   \n",
       "459913  ['2018-12-03','2018-12-29','2018-12-29','2018-...   \n",
       "459914                                     ['2018-12-29']   \n",
       "459915  ['2018-12-23','2018-12-23','2018-12-23','2018-...   \n",
       "459916                        ['2018-12-28','2018-12-29']   \n",
       "\n",
       "                                         event_timestamps  \\\n",
       "4       ['2019-07-17 08:08:00','2019-07-27 08:32:10','...   \n",
       "6       ['2019-07-22 07:54:41','2019-07-22 07:57:21','...   \n",
       "12      ['2019-05-31 05:38:48','2019-06-22 05:22:16','...   \n",
       "17      ['2019-07-17 03:56:43','2019-07-17 03:57:26','...   \n",
       "21                                ['2019-07-23 09:09:49']   \n",
       "...                                                   ...   \n",
       "459911  ['2018-11-18 01:57:22','2018-12-20 17:12:57','...   \n",
       "459913  ['2018-12-03 14:58:36','2018-12-29 00:26:18','...   \n",
       "459914                            ['2018-12-29 00:14:38']   \n",
       "459915  ['2018-12-23 02:15:19','2018-12-23 18:45:08','...   \n",
       "459916      ['2018-12-28 17:09:07','2018-12-29 00:14:00']   \n",
       "\n",
       "                   days_till_conversions conversion_date conversion_timestamp  \\\n",
       "4                           [16,6,6,6,6]      2019-08-02  2019-08-02 07:38:58   \n",
       "6                          [11,11,11,11]      2019-08-02  2019-08-02 17:45:23   \n",
       "12                            [63,41,41]      2019-08-02  2019-08-02 07:41:15   \n",
       "17                      [16,16,14,14,14]      2019-08-02  2019-08-02 12:44:58   \n",
       "21                                  [10]      2019-08-02  2019-08-02 17:44:39   \n",
       "...                                  ...             ...                  ...   \n",
       "459911  [41,9,2,2,2,2,2,2,2,2,2,2,2,2,0]      2018-12-29  2018-12-29 02:48:13   \n",
       "459913                        [26,0,0,0]      2018-12-29  2018-12-29 00:57:40   \n",
       "459914                               [0]      2018-12-29  2018-12-29 00:19:01   \n",
       "459915           [6,6,6,6,5,4,3,1,1,1,0]      2018-12-29  2018-12-29 00:12:38   \n",
       "459916                             [1,0]      2018-12-29  2018-12-29 00:21:12   \n",
       "\n",
       "       first_touch_utm_source last_touch_utm_source first_touch_utm_medium  \\\n",
       "4                    synerise              synerise                organic   \n",
       "6                  google.com              (direct)               referral   \n",
       "12                   facebook                google               sms_text   \n",
       "17                   synerise              facebook                organic   \n",
       "21                   synerise              synerise                organic   \n",
       "...                       ...                   ...                    ...   \n",
       "459911             google.com              (direct)               referral   \n",
       "459913                 google              (direct)               web_push   \n",
       "459914                 google                google                    cpc   \n",
       "459915                 google              (direct)                    cpc   \n",
       "459916                 google                google                 e-mail   \n",
       "\n",
       "       last_touch_utm_medium  \n",
       "4                    organic  \n",
       "6                     (none)  \n",
       "12                       cpc  \n",
       "17                       cpc  \n",
       "21                   organic  \n",
       "...                      ...  \n",
       "459911                (none)  \n",
       "459913              sms_text  \n",
       "459914                   cpc  \n",
       "459915                (none)  \n",
       "459916              web_push  \n",
       "\n",
       "[268702 rows x 13 columns]"
      ]
     },
     "execution_count": 10,
     "metadata": {},
     "output_type": "execute_result"
    }
   ],
   "source": [
    "df[df['first_touch_utm_medium'].notna()]"
   ]
  },
  {
   "cell_type": "code",
   "execution_count": 3,
   "metadata": {},
   "outputs": [
    {
     "data": {
      "text/plain": [
       "459917"
      ]
     },
     "execution_count": 3,
     "metadata": {},
     "output_type": "execute_result"
    }
   ],
   "source": [
    "len(df)"
   ]
  },
  {
   "cell_type": "code",
   "execution_count": 4,
   "metadata": {},
   "outputs": [
    {
     "data": {
      "text/plain": [
       "244608"
      ]
     },
     "execution_count": 4,
     "metadata": {},
     "output_type": "execute_result"
    }
   ],
   "source": [
    "len(df.dropna())"
   ]
  },
  {
   "cell_type": "code",
   "execution_count": 2,
   "metadata": {},
   "outputs": [
    {
     "ename": "ValueError",
     "evalue": "too many values to unpack (expected 2)",
     "output_type": "error",
     "traceback": [
      "\u001b[0;31m---------------------------------------------------------------------------\u001b[0m",
      "\u001b[0;31mValueError\u001b[0m                                Traceback (most recent call last)",
      "\u001b[0;32m<ipython-input-2-3326d673f991>\u001b[0m in \u001b[0;36m<module>\u001b[0;34m\u001b[0m\n\u001b[1;32m      1\u001b[0m \u001b[0mdf\u001b[0m \u001b[0;34m=\u001b[0m \u001b[0mload_data\u001b[0m\u001b[0;34m(\u001b[0m\u001b[0;34m)\u001b[0m\u001b[0;34m\u001b[0m\u001b[0;34m\u001b[0m\u001b[0m\n\u001b[1;32m      2\u001b[0m \u001b[0mdf\u001b[0m \u001b[0;34m=\u001b[0m \u001b[0mcreate_touch_columns\u001b[0m\u001b[0;34m(\u001b[0m\u001b[0mdf\u001b[0m\u001b[0;34m)\u001b[0m\u001b[0;34m\u001b[0m\u001b[0;34m\u001b[0m\u001b[0m\n\u001b[0;32m----> 3\u001b[0;31m \u001b[0mprint\u001b[0m\u001b[0;34m(\u001b[0m\u001b[0mpredict_channel_impact\u001b[0m\u001b[0;34m(\u001b[0m\u001b[0mdf\u001b[0m\u001b[0;34m,\u001b[0m \u001b[0;34m'last_touch_utm_medium'\u001b[0m\u001b[0;34m,\u001b[0m \u001b[0;32mTrue\u001b[0m\u001b[0;34m)\u001b[0m\u001b[0;34m)\u001b[0m\u001b[0;34m\u001b[0m\u001b[0;34m\u001b[0m\u001b[0m\n\u001b[0m",
      "\u001b[0;32m~/PycharmProjects/Attributions/src/first_and_last_touch_model.py\u001b[0m in \u001b[0;36mpredict_channel_impact\u001b[0;34m(df, utm, percentage)\u001b[0m\n\u001b[1;32m     23\u001b[0m         \u001b[0mrevenue_sum_for_each_channel\u001b[0m\u001b[0;34m[\u001b[0m\u001b[0mchannel\u001b[0m\u001b[0;34m]\u001b[0m \u001b[0;34m=\u001b[0m \u001b[0mdf\u001b[0m\u001b[0;34m[\u001b[0m\u001b[0mdf\u001b[0m\u001b[0;34m[\u001b[0m\u001b[0mutm\u001b[0m\u001b[0;34m]\u001b[0m \u001b[0;34m==\u001b[0m \u001b[0mchannel\u001b[0m\u001b[0;34m]\u001b[0m\u001b[0;34m.\u001b[0m\u001b[0mrevenue\u001b[0m\u001b[0;34m.\u001b[0m\u001b[0msum\u001b[0m\u001b[0;34m(\u001b[0m\u001b[0;34m)\u001b[0m\u001b[0;34m\u001b[0m\u001b[0;34m\u001b[0m\u001b[0m\n\u001b[1;32m     24\u001b[0m     \u001b[0;32mif\u001b[0m \u001b[0mpercentage\u001b[0m\u001b[0;34m:\u001b[0m\u001b[0;34m\u001b[0m\u001b[0;34m\u001b[0m\u001b[0m\n\u001b[0;32m---> 25\u001b[0;31m         \u001b[0;32mreturn\u001b[0m \u001b[0mtransform_into_percentage_values\u001b[0m\u001b[0;34m(\u001b[0m\u001b[0mrevenue_sum_for_each_channel\u001b[0m\u001b[0;34m)\u001b[0m\u001b[0;34m\u001b[0m\u001b[0;34m\u001b[0m\u001b[0m\n\u001b[0m\u001b[1;32m     26\u001b[0m     \u001b[0;32mreturn\u001b[0m \u001b[0mrevenue_sum_for_each_channel\u001b[0m\u001b[0;34m\u001b[0m\u001b[0;34m\u001b[0m\u001b[0m\n\u001b[1;32m     27\u001b[0m \u001b[0;34m\u001b[0m\u001b[0m\n",
      "\u001b[0;32m~/PycharmProjects/Attributions/src/first_and_last_touch_model.py\u001b[0m in \u001b[0;36mtransform_into_percentage_values\u001b[0;34m(revenue_dict)\u001b[0m\n\u001b[1;32m     13\u001b[0m \u001b[0;32mdef\u001b[0m \u001b[0mtransform_into_percentage_values\u001b[0m\u001b[0;34m(\u001b[0m\u001b[0mrevenue_dict\u001b[0m\u001b[0;34m)\u001b[0m\u001b[0;34m:\u001b[0m\u001b[0;34m\u001b[0m\u001b[0;34m\u001b[0m\u001b[0m\n\u001b[1;32m     14\u001b[0m     \u001b[0mrevenue_sum\u001b[0m \u001b[0;34m=\u001b[0m \u001b[0msum\u001b[0m\u001b[0;34m(\u001b[0m\u001b[0mrevenue_dict\u001b[0m\u001b[0;34m.\u001b[0m\u001b[0mvalues\u001b[0m\u001b[0;34m(\u001b[0m\u001b[0;34m)\u001b[0m\u001b[0;34m)\u001b[0m\u001b[0;34m\u001b[0m\u001b[0;34m\u001b[0m\u001b[0m\n\u001b[0;32m---> 15\u001b[0;31m     \u001b[0;32mfor\u001b[0m \u001b[0mk\u001b[0m\u001b[0;34m,\u001b[0m \u001b[0mv\u001b[0m \u001b[0;32min\u001b[0m \u001b[0mrevenue_dict\u001b[0m\u001b[0;34m:\u001b[0m\u001b[0;34m\u001b[0m\u001b[0;34m\u001b[0m\u001b[0m\n\u001b[0m\u001b[1;32m     16\u001b[0m         \u001b[0mrevenue_dict\u001b[0m\u001b[0;34m[\u001b[0m\u001b[0mk\u001b[0m\u001b[0;34m]\u001b[0m \u001b[0;34m=\u001b[0m \u001b[0mv\u001b[0m \u001b[0;34m/\u001b[0m \u001b[0mrevenue_sum\u001b[0m\u001b[0;34m\u001b[0m\u001b[0;34m\u001b[0m\u001b[0m\n\u001b[1;32m     17\u001b[0m     \u001b[0;32mreturn\u001b[0m \u001b[0mrevenue_dict\u001b[0m\u001b[0;34m\u001b[0m\u001b[0;34m\u001b[0m\u001b[0m\n",
      "\u001b[0;31mValueError\u001b[0m: too many values to unpack (expected 2)"
     ]
    }
   ],
   "source": [
    "df = load_data()\n",
    "df = create_touch_columns(df)\n",
    "print(predict_channel_impact(df, 'last_touch_utm_medium', True))"
   ]
  },
  {
   "cell_type": "code",
   "execution_count": 4,
   "metadata": {},
   "outputs": [
    {
     "data": {
      "text/html": [
       "<div>\n",
       "<style scoped>\n",
       "    .dataframe tbody tr th:only-of-type {\n",
       "        vertical-align: middle;\n",
       "    }\n",
       "\n",
       "    .dataframe tbody tr th {\n",
       "        vertical-align: top;\n",
       "    }\n",
       "\n",
       "    .dataframe thead th {\n",
       "        text-align: right;\n",
       "    }\n",
       "</style>\n",
       "<table border=\"1\" class=\"dataframe\">\n",
       "  <thead>\n",
       "    <tr style=\"text-align: right;\">\n",
       "      <th></th>\n",
       "      <th>client_uuid</th>\n",
       "      <th>revenue</th>\n",
       "      <th>utm_source</th>\n",
       "      <th>utm_medium</th>\n",
       "      <th>event_dates</th>\n",
       "      <th>event_timestamps</th>\n",
       "      <th>days_till_conversions</th>\n",
       "      <th>conversion_date</th>\n",
       "      <th>conversion_timestamp</th>\n",
       "    </tr>\n",
       "  </thead>\n",
       "  <tbody>\n",
       "    <tr>\n",
       "      <th>0</th>\n",
       "      <td>46843260447612932</td>\n",
       "      <td>1597.00</td>\n",
       "      <td>['(direct)']</td>\n",
       "      <td>['(none)']</td>\n",
       "      <td>['2019-08-02']</td>\n",
       "      <td>['2019-08-02 01:36:17']</td>\n",
       "      <td>[0]</td>\n",
       "      <td>2019-08-02</td>\n",
       "      <td>2019-08-02 01:36:17</td>\n",
       "    </tr>\n",
       "    <tr>\n",
       "      <th>1</th>\n",
       "      <td>73937596961622962</td>\n",
       "      <td>34.99</td>\n",
       "      <td>['(direct)']</td>\n",
       "      <td>['(none)']</td>\n",
       "      <td>['2019-07-19']</td>\n",
       "      <td>['2019-07-19 15:27:24']</td>\n",
       "      <td>[14]</td>\n",
       "      <td>2019-08-02</td>\n",
       "      <td>2019-08-02 21:08:16</td>\n",
       "    </tr>\n",
       "    <tr>\n",
       "      <th>2</th>\n",
       "      <td>94396730975196822</td>\n",
       "      <td>35.99</td>\n",
       "      <td>['(direct)']</td>\n",
       "      <td>['(none)']</td>\n",
       "      <td>['2019-08-02']</td>\n",
       "      <td>['2019-08-02 09:38:21']</td>\n",
       "      <td>[0]</td>\n",
       "      <td>2019-08-02</td>\n",
       "      <td>2019-08-02 09:38:21</td>\n",
       "    </tr>\n",
       "    <tr>\n",
       "      <th>3</th>\n",
       "      <td>125013537097955872</td>\n",
       "      <td>34.99</td>\n",
       "      <td>['(direct)']</td>\n",
       "      <td>['(none)']</td>\n",
       "      <td>['2019-08-02']</td>\n",
       "      <td>['2019-08-02 15:15:40']</td>\n",
       "      <td>[0]</td>\n",
       "      <td>2019-08-02</td>\n",
       "      <td>2019-08-02 15:15:40</td>\n",
       "    </tr>\n",
       "    <tr>\n",
       "      <th>4</th>\n",
       "      <td>162607037084320552</td>\n",
       "      <td>249.99</td>\n",
       "      <td>['synerise','facebook','(direct)','(direct)','...</td>\n",
       "      <td>['organic','cpc','(none)','sms_text','organic']</td>\n",
       "      <td>['2019-07-17','2019-07-27','2019-07-27','2019-...</td>\n",
       "      <td>['2019-07-17 08:08:00','2019-07-27 08:32:10','...</td>\n",
       "      <td>[16,6,6,6,6]</td>\n",
       "      <td>2019-08-02</td>\n",
       "      <td>2019-08-02 07:38:58</td>\n",
       "    </tr>\n",
       "  </tbody>\n",
       "</table>\n",
       "</div>"
      ],
      "text/plain": [
       "          client_uuid  revenue  \\\n",
       "0   46843260447612932  1597.00   \n",
       "1   73937596961622962    34.99   \n",
       "2   94396730975196822    35.99   \n",
       "3  125013537097955872    34.99   \n",
       "4  162607037084320552   249.99   \n",
       "\n",
       "                                          utm_source  \\\n",
       "0                                       ['(direct)']   \n",
       "1                                       ['(direct)']   \n",
       "2                                       ['(direct)']   \n",
       "3                                       ['(direct)']   \n",
       "4  ['synerise','facebook','(direct)','(direct)','...   \n",
       "\n",
       "                                        utm_medium  \\\n",
       "0                                       ['(none)']   \n",
       "1                                       ['(none)']   \n",
       "2                                       ['(none)']   \n",
       "3                                       ['(none)']   \n",
       "4  ['organic','cpc','(none)','sms_text','organic']   \n",
       "\n",
       "                                         event_dates  \\\n",
       "0                                     ['2019-08-02']   \n",
       "1                                     ['2019-07-19']   \n",
       "2                                     ['2019-08-02']   \n",
       "3                                     ['2019-08-02']   \n",
       "4  ['2019-07-17','2019-07-27','2019-07-27','2019-...   \n",
       "\n",
       "                                    event_timestamps days_till_conversions  \\\n",
       "0                            ['2019-08-02 01:36:17']                   [0]   \n",
       "1                            ['2019-07-19 15:27:24']                  [14]   \n",
       "2                            ['2019-08-02 09:38:21']                   [0]   \n",
       "3                            ['2019-08-02 15:15:40']                   [0]   \n",
       "4  ['2019-07-17 08:08:00','2019-07-27 08:32:10','...          [16,6,6,6,6]   \n",
       "\n",
       "  conversion_date conversion_timestamp  \n",
       "0      2019-08-02  2019-08-02 01:36:17  \n",
       "1      2019-08-02  2019-08-02 21:08:16  \n",
       "2      2019-08-02  2019-08-02 09:38:21  \n",
       "3      2019-08-02  2019-08-02 15:15:40  \n",
       "4      2019-08-02  2019-08-02 07:38:58  "
      ]
     },
     "execution_count": 4,
     "metadata": {},
     "output_type": "execute_result"
    }
   ],
   "source": [
    "df.head()"
   ]
  },
  {
   "cell_type": "code",
   "execution_count": 3,
   "metadata": {},
   "outputs": [],
   "source": [
    "ble = predict_channel_impact(df, 'first_touch', 'utm_medium')"
   ]
  },
  {
   "cell_type": "code",
   "execution_count": 4,
   "metadata": {},
   "outputs": [
    {
     "data": {
      "text/plain": [
       "{'e-mail': 11035968.462971,\n",
       " 'organic': 10953544.822811,\n",
       " 'cpc': 25556145.6250745,\n",
       " 'sms_text': 17319211.3334375,\n",
       " 'web_push': 10873711.062796,\n",
       " 'referral': 1757157.3113819999,\n",
       " '(none)': 91028191.6823903}"
      ]
     },
     "execution_count": 4,
     "metadata": {},
     "output_type": "execute_result"
    }
   ],
   "source": [
    "ble"
   ]
  },
  {
   "cell_type": "code",
   "execution_count": 3,
   "metadata": {},
   "outputs": [
    {
     "name": "stdout",
     "output_type": "stream",
     "text": [
      "Naive solution first_touch, utm_medium, RMSE = 844.6079042563491\n",
      "Naive solution last_touch, utm_medium, RMSE = 843.3653430415172\n"
     ]
    }
   ],
   "source": [
    "predicted = predict_touch_model(df, 'first_touch', 'utm_medium')\n",
    "rmse = measure_results(df.revenue, predicted)\n",
    "print(f'Naive solution first_touch, utm_medium, RMSE = {rmse}')\n",
    "\n",
    "predicted = predict_touch_model(df, 'last_touch', 'utm_medium')\n",
    "rmse = measure_results(df.revenue, predicted)\n",
    "print(f'Naive solution last_touch, utm_medium, RMSE = {rmse}')"
   ]
  },
  {
   "cell_type": "code",
   "execution_count": 4,
   "metadata": {},
   "outputs": [
    {
     "name": "stdout",
     "output_type": "stream",
     "text": [
      "Naive solution first_touch, utm_source, RMSE = 846.0006726714169\n",
      "Naive solution last_touch, utm_source, RMSE = 845.19959539964\n"
     ]
    }
   ],
   "source": [
    "predicted = predict_touch_model(df, 'first_touch', 'utm_source')\n",
    "rmse = measure_results(df.revenue, predicted)\n",
    "print(f'Naive solution first_touch, utm_source, RMSE = {rmse}')\n",
    "\n",
    "predicted = predict_touch_model(df, 'last_touch', 'utm_source')\n",
    "rmse = measure_results(df.revenue, predicted)\n",
    "print(f'Naive solution last_touch, utm_source, RMSE = {rmse}')"
   ]
  },
  {
   "cell_type": "code",
   "execution_count": 5,
   "metadata": {},
   "outputs": [],
   "source": [
    "def measure_channel_impact(df, first_or_last, utm):\n",
    "    df['touch'] = create_first_or_last_touch_column(df, first_or_last, utm)\n",
    "    return df\n",
    "    \n",
    "ble = measure_channel_impact(df, 'first_touch', 'utm_medium')"
   ]
  },
  {
   "cell_type": "code",
   "execution_count": 6,
   "metadata": {},
   "outputs": [
    {
     "data": {
      "text/html": [
       "<div>\n",
       "<style scoped>\n",
       "    .dataframe tbody tr th:only-of-type {\n",
       "        vertical-align: middle;\n",
       "    }\n",
       "\n",
       "    .dataframe tbody tr th {\n",
       "        vertical-align: top;\n",
       "    }\n",
       "\n",
       "    .dataframe thead th {\n",
       "        text-align: right;\n",
       "    }\n",
       "</style>\n",
       "<table border=\"1\" class=\"dataframe\">\n",
       "  <thead>\n",
       "    <tr style=\"text-align: right;\">\n",
       "      <th></th>\n",
       "      <th>client_uuid</th>\n",
       "      <th>revenue</th>\n",
       "      <th>utm_source</th>\n",
       "      <th>utm_medium</th>\n",
       "      <th>event_dates</th>\n",
       "      <th>event_timestamps</th>\n",
       "      <th>days_till_conversions</th>\n",
       "      <th>conversion_date</th>\n",
       "      <th>conversion_timestamp</th>\n",
       "      <th>touch</th>\n",
       "    </tr>\n",
       "  </thead>\n",
       "  <tbody>\n",
       "    <tr>\n",
       "      <th>4</th>\n",
       "      <td>162607037084320552</td>\n",
       "      <td>249.99</td>\n",
       "      <td>[synerise, facebook, (direct), (direct), syner...</td>\n",
       "      <td>[organic, cpc, (none), sms_text, organic]</td>\n",
       "      <td>['2019-07-17','2019-07-27','2019-07-27','2019-...</td>\n",
       "      <td>['2019-07-17 08:08:00','2019-07-27 08:32:10','...</td>\n",
       "      <td>[16,6,6,6,6]</td>\n",
       "      <td>2019-08-02</td>\n",
       "      <td>2019-08-02 07:38:58</td>\n",
       "      <td>organic</td>\n",
       "    </tr>\n",
       "    <tr>\n",
       "      <th>6</th>\n",
       "      <td>245479691431714732</td>\n",
       "      <td>173.94</td>\n",
       "      <td>[(direct), google.com, (direct), (direct)]</td>\n",
       "      <td>[(none), referral, sms_text, (none)]</td>\n",
       "      <td>['2019-07-22','2019-07-22','2019-07-22','2019-...</td>\n",
       "      <td>['2019-07-22 07:54:41','2019-07-22 07:57:21','...</td>\n",
       "      <td>[11,11,11,11]</td>\n",
       "      <td>2019-08-02</td>\n",
       "      <td>2019-08-02 17:45:23</td>\n",
       "      <td>(none)</td>\n",
       "    </tr>\n",
       "    <tr>\n",
       "      <th>12</th>\n",
       "      <td>423257530869390002</td>\n",
       "      <td>274.94</td>\n",
       "      <td>[(direct), facebook, google]</td>\n",
       "      <td>[sms_text, cpc, cpc]</td>\n",
       "      <td>['2019-05-31','2019-06-22','2019-06-22']</td>\n",
       "      <td>['2019-05-31 05:38:48','2019-06-22 05:22:16','...</td>\n",
       "      <td>[63,41,41]</td>\n",
       "      <td>2019-08-02</td>\n",
       "      <td>2019-08-02 07:41:15</td>\n",
       "      <td>sms_text</td>\n",
       "    </tr>\n",
       "    <tr>\n",
       "      <th>17</th>\n",
       "      <td>618125321206055252</td>\n",
       "      <td>269.99</td>\n",
       "      <td>[synerise, google, synerise, google, facebook]</td>\n",
       "      <td>[organic, web_push, organic, cpc, cpc]</td>\n",
       "      <td>['2019-07-17','2019-07-17','2019-07-19','2019-...</td>\n",
       "      <td>['2019-07-17 03:56:43','2019-07-17 03:57:26','...</td>\n",
       "      <td>[16,16,14,14,14]</td>\n",
       "      <td>2019-08-02</td>\n",
       "      <td>2019-08-02 12:44:58</td>\n",
       "      <td>organic</td>\n",
       "    </tr>\n",
       "    <tr>\n",
       "      <th>21</th>\n",
       "      <td>853710216256722922</td>\n",
       "      <td>169.80</td>\n",
       "      <td>[synerise]</td>\n",
       "      <td>[organic]</td>\n",
       "      <td>['2019-07-23']</td>\n",
       "      <td>['2019-07-23 09:09:49']</td>\n",
       "      <td>[10]</td>\n",
       "      <td>2019-08-02</td>\n",
       "      <td>2019-08-02 17:44:39</td>\n",
       "      <td>organic</td>\n",
       "    </tr>\n",
       "  </tbody>\n",
       "</table>\n",
       "</div>"
      ],
      "text/plain": [
       "           client_uuid  revenue  \\\n",
       "4   162607037084320552   249.99   \n",
       "6   245479691431714732   173.94   \n",
       "12  423257530869390002   274.94   \n",
       "17  618125321206055252   269.99   \n",
       "21  853710216256722922   169.80   \n",
       "\n",
       "                                           utm_source  \\\n",
       "4   [synerise, facebook, (direct), (direct), syner...   \n",
       "6          [(direct), google.com, (direct), (direct)]   \n",
       "12                       [(direct), facebook, google]   \n",
       "17     [synerise, google, synerise, google, facebook]   \n",
       "21                                         [synerise]   \n",
       "\n",
       "                                   utm_medium  \\\n",
       "4   [organic, cpc, (none), sms_text, organic]   \n",
       "6        [(none), referral, sms_text, (none)]   \n",
       "12                       [sms_text, cpc, cpc]   \n",
       "17     [organic, web_push, organic, cpc, cpc]   \n",
       "21                                  [organic]   \n",
       "\n",
       "                                          event_dates  \\\n",
       "4   ['2019-07-17','2019-07-27','2019-07-27','2019-...   \n",
       "6   ['2019-07-22','2019-07-22','2019-07-22','2019-...   \n",
       "12           ['2019-05-31','2019-06-22','2019-06-22']   \n",
       "17  ['2019-07-17','2019-07-17','2019-07-19','2019-...   \n",
       "21                                     ['2019-07-23']   \n",
       "\n",
       "                                     event_timestamps days_till_conversions  \\\n",
       "4   ['2019-07-17 08:08:00','2019-07-27 08:32:10','...          [16,6,6,6,6]   \n",
       "6   ['2019-07-22 07:54:41','2019-07-22 07:57:21','...         [11,11,11,11]   \n",
       "12  ['2019-05-31 05:38:48','2019-06-22 05:22:16','...            [63,41,41]   \n",
       "17  ['2019-07-17 03:56:43','2019-07-17 03:57:26','...      [16,16,14,14,14]   \n",
       "21                            ['2019-07-23 09:09:49']                  [10]   \n",
       "\n",
       "   conversion_date conversion_timestamp     touch  \n",
       "4       2019-08-02  2019-08-02 07:38:58   organic  \n",
       "6       2019-08-02  2019-08-02 17:45:23    (none)  \n",
       "12      2019-08-02  2019-08-02 07:41:15  sms_text  \n",
       "17      2019-08-02  2019-08-02 12:44:58   organic  \n",
       "21      2019-08-02  2019-08-02 17:44:39   organic  "
      ]
     },
     "execution_count": 6,
     "metadata": {},
     "output_type": "execute_result"
    }
   ],
   "source": [
    "ble.head()"
   ]
  },
  {
   "cell_type": "code",
   "execution_count": 7,
   "metadata": {},
   "outputs": [
    {
     "data": {
      "text/plain": [
       "168523930.30086228"
      ]
     },
     "execution_count": 7,
     "metadata": {},
     "output_type": "execute_result"
    }
   ],
   "source": [
    "ble.revenue.sum()"
   ]
  },
  {
   "cell_type": "code",
   "execution_count": 9,
   "metadata": {},
   "outputs": [],
   "source": [
    "organic = ble[ble.touch=='organic']"
   ]
  },
  {
   "cell_type": "code",
   "execution_count": 10,
   "metadata": {},
   "outputs": [
    {
     "data": {
      "text/plain": [
       "10953544.822811"
      ]
     },
     "execution_count": 10,
     "metadata": {},
     "output_type": "execute_result"
    }
   ],
   "source": [
    "organic.revenue.sum()"
   ]
  },
  {
   "cell_type": "code",
   "execution_count": 12,
   "metadata": {},
   "outputs": [],
   "source": []
  },
  {
   "cell_type": "code",
   "execution_count": 17,
   "metadata": {},
   "outputs": [],
   "source": [
    "def remove_nones(df):\n",
    "    return df[df.touch!='(none)']"
   ]
  },
  {
   "cell_type": "code",
   "execution_count": 18,
   "metadata": {},
   "outputs": [],
   "source": [
    "ble = remove_nones(ble)\n",
    "\n",
    "mediums = ble.touch.unique()\n",
    "revenue_all = ble.revenue.sum()\n",
    "impact = {}\n",
    "for medium in mediums:\n",
    "    revenue_specific = ble[ble.touch==medium].revenue.sum()\n",
    "    impact[medium] = revenue_specific/revenue_all\n",
    "    "
   ]
  },
  {
   "cell_type": "code",
   "execution_count": 19,
   "metadata": {},
   "outputs": [
    {
     "data": {
      "text/plain": [
       "{'organic': 0.14134383410083526,\n",
       " 'sms_text': 0.2234859831287454,\n",
       " 'web_push': 0.1403136644239187,\n",
       " 'cpc': 0.3297748506004031,\n",
       " 'e-mail': 0.1424074234236726,\n",
       " 'referral': 0.02267424432242473}"
      ]
     },
     "execution_count": 19,
     "metadata": {},
     "output_type": "execute_result"
    }
   ],
   "source": [
    "impact"
   ]
  },
  {
   "cell_type": "code",
   "execution_count": 21,
   "metadata": {},
   "outputs": [
    {
     "data": {
      "text/plain": [
       "cpc         49219\n",
       "sms_text    32219\n",
       "e-mail      21352\n",
       "web_push    21090\n",
       "organic     21075\n",
       "referral     2337\n",
       "Name: touch, dtype: int64"
      ]
     },
     "execution_count": 21,
     "metadata": {},
     "output_type": "execute_result"
    }
   ],
   "source": [
    "ble.touch.value_counts()"
   ]
  },
  {
   "cell_type": "code",
   "execution_count": 23,
   "metadata": {},
   "outputs": [
    {
     "data": {
      "text/plain": [
       "{'cpc': 0.3297748506004031,\n",
       " 'sms_text': 0.2234859831287454,\n",
       " 'e-mail': 0.1424074234236726,\n",
       " 'organic': 0.14134383410083526,\n",
       " 'web_push': 0.1403136644239187,\n",
       " 'referral': 0.02267424432242473}"
      ]
     },
     "execution_count": 23,
     "metadata": {},
     "output_type": "execute_result"
    }
   ],
   "source": [
    "{k: v for k, v in sorted(impact.items(), key=lambda item: item[1], reverse=True)}"
   ]
  },
  {
   "cell_type": "code",
   "execution_count": 29,
   "metadata": {},
   "outputs": [
    {
     "data": {
      "text/plain": [
       "{'cpc': 49219,\n",
       " 'sms_text': 32219,\n",
       " 'e-mail': 21352,\n",
       " 'web_push': 21090,\n",
       " 'organic': 21075,\n",
       " 'referral': 2337}"
      ]
     },
     "execution_count": 29,
     "metadata": {},
     "output_type": "execute_result"
    }
   ],
   "source": [
    "rev = ble.touch.value_counts().to_dict()\n",
    "rev"
   ]
  },
  {
   "cell_type": "code",
   "execution_count": null,
   "metadata": {},
   "outputs": [],
   "source": [
    "{k: v for k, v in }"
   ]
  }
 ],
 "metadata": {
  "kernelspec": {
   "display_name": "Python 3",
   "language": "python",
   "name": "python3"
  },
  "language_info": {
   "codemirror_mode": {
    "name": "ipython",
    "version": 3
   },
   "file_extension": ".py",
   "mimetype": "text/x-python",
   "name": "python",
   "nbconvert_exporter": "python",
   "pygments_lexer": "ipython3",
   "version": "3.7.9"
  }
 },
 "nbformat": 4,
 "nbformat_minor": 4
}

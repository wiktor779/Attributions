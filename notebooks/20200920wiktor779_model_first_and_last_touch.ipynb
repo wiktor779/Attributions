{
 "cells": [
  {
   "cell_type": "code",
   "execution_count": 1,
   "metadata": {},
   "outputs": [],
   "source": [
    "import sys\n",
    "sys.path.append('../')\n",
    "from src.utils import *\n",
    "from src.first_and_last_touch_model import *"
   ]
  },
  {
   "cell_type": "code",
   "execution_count": 2,
   "metadata": {},
   "outputs": [],
   "source": [
    "df = load_data()\n",
    "df = remove_direct_entries(df, 'medium')\n",
    "df = remove_outliers_z_score(df, 3.5)\n",
    "\n",
    "df = transform_utm_columns_into_list_of_strings(df)"
   ]
  },
  {
   "cell_type": "code",
   "execution_count": 3,
   "metadata": {},
   "outputs": [
    {
     "name": "stdout",
     "output_type": "stream",
     "text": [
      "Naive solution first_touch, utm_medium, RMSE = 844.6079042563491\n",
      "Naive solution last_touch, utm_medium, RMSE = 843.3653430415172\n"
     ]
    }
   ],
   "source": [
    "predicted = predict_touch_model(df, 'first_touch', 'utm_medium')\n",
    "rmse = measure_results(df.revenue, predicted)\n",
    "print(f'Naive solution first_touch, utm_medium, RMSE = {rmse}')\n",
    "\n",
    "predicted = predict_touch_model(df, 'last_touch', 'utm_medium')\n",
    "rmse = measure_results(df.revenue, predicted)\n",
    "print(f'Naive solution last_touch, utm_medium, RMSE = {rmse}')"
   ]
  },
  {
   "cell_type": "code",
   "execution_count": 4,
   "metadata": {},
   "outputs": [
    {
     "name": "stdout",
     "output_type": "stream",
     "text": [
      "Naive solution first_touch, utm_source, RMSE = 846.0006726714169\n",
      "Naive solution last_touch, utm_source, RMSE = 845.19959539964\n"
     ]
    }
   ],
   "source": [
    "predicted = predict_touch_model(df, 'first_touch', 'utm_source')\n",
    "rmse = measure_results(df.revenue, predicted)\n",
    "print(f'Naive solution first_touch, utm_source, RMSE = {rmse}')\n",
    "\n",
    "predicted = predict_touch_model(df, 'last_touch', 'utm_source')\n",
    "rmse = measure_results(df.revenue, predicted)\n",
    "print(f'Naive solution last_touch, utm_source, RMSE = {rmse}')"
   ]
  }
 ],
 "metadata": {
  "kernelspec": {
   "display_name": "Python 3",
   "language": "python",
   "name": "python3"
  },
  "language_info": {
   "codemirror_mode": {
    "name": "ipython",
    "version": 3
   },
   "file_extension": ".py",
   "mimetype": "text/x-python",
   "name": "python",
   "nbconvert_exporter": "python",
   "pygments_lexer": "ipython3",
   "version": "3.7.9"
  }
 },
 "nbformat": 4,
 "nbformat_minor": 4
}

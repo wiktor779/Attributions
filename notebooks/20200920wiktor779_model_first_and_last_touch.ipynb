{
 "cells": [
  {
   "cell_type": "code",
   "execution_count": 1,
   "metadata": {},
   "outputs": [],
   "source": [
    "import sys\n",
    "sys.path.append('../')\n",
    "from src.utils import *\n",
    "from src.first_and_last_touch_model import *"
   ]
  },
  {
   "cell_type": "code",
   "execution_count": 5,
   "metadata": {
    "scrolled": true
   },
   "outputs": [],
   "source": [
    "df = load_data()\n",
    "# df = remove_direct_entries(df)\n",
    "# df = remove_outliers_z_score(df, 3.5)\n",
    "df = transform_utm_columns_into_list_of_strings(df)"
   ]
  },
  {
   "cell_type": "code",
   "execution_count": 3,
   "metadata": {},
   "outputs": [],
   "source": [
    "ble = predict_channel_impact(df, 'first_touch', 'utm_medium')"
   ]
  },
  {
   "cell_type": "code",
   "execution_count": 4,
   "metadata": {},
   "outputs": [
    {
     "data": {
      "text/plain": [
       "{'e-mail': 11035968.462971,\n",
       " 'organic': 10953544.822811,\n",
       " 'cpc': 25556145.6250745,\n",
       " 'sms_text': 17319211.3334375,\n",
       " 'web_push': 10873711.062796,\n",
       " 'referral': 1757157.3113819999,\n",
       " '(none)': 91028191.6823903}"
      ]
     },
     "execution_count": 4,
     "metadata": {},
     "output_type": "execute_result"
    }
   ],
   "source": [
    "ble"
   ]
  },
  {
   "cell_type": "code",
   "execution_count": 3,
   "metadata": {},
   "outputs": [
    {
     "name": "stdout",
     "output_type": "stream",
     "text": [
      "Naive solution first_touch, utm_medium, RMSE = 844.6079042563491\n",
      "Naive solution last_touch, utm_medium, RMSE = 843.3653430415172\n"
     ]
    }
   ],
   "source": [
    "predicted = predict_touch_model(df, 'first_touch', 'utm_medium')\n",
    "rmse = measure_results(df.revenue, predicted)\n",
    "print(f'Naive solution first_touch, utm_medium, RMSE = {rmse}')\n",
    "\n",
    "predicted = predict_touch_model(df, 'last_touch', 'utm_medium')\n",
    "rmse = measure_results(df.revenue, predicted)\n",
    "print(f'Naive solution last_touch, utm_medium, RMSE = {rmse}')"
   ]
  },
  {
   "cell_type": "code",
   "execution_count": 4,
   "metadata": {},
   "outputs": [
    {
     "name": "stdout",
     "output_type": "stream",
     "text": [
      "Naive solution first_touch, utm_source, RMSE = 846.0006726714169\n",
      "Naive solution last_touch, utm_source, RMSE = 845.19959539964\n"
     ]
    }
   ],
   "source": [
    "predicted = predict_touch_model(df, 'first_touch', 'utm_source')\n",
    "rmse = measure_results(df.revenue, predicted)\n",
    "print(f'Naive solution first_touch, utm_source, RMSE = {rmse}')\n",
    "\n",
    "predicted = predict_touch_model(df, 'last_touch', 'utm_source')\n",
    "rmse = measure_results(df.revenue, predicted)\n",
    "print(f'Naive solution last_touch, utm_source, RMSE = {rmse}')"
   ]
  },
  {
   "cell_type": "code",
   "execution_count": 5,
   "metadata": {},
   "outputs": [],
   "source": [
    "def measure_channel_impact(df, first_or_last, utm):\n",
    "    df['touch'] = create_first_or_last_touch_column(df, first_or_last, utm)\n",
    "    return df\n",
    "    \n",
    "ble = measure_channel_impact(df, 'first_touch', 'utm_medium')"
   ]
  },
  {
   "cell_type": "code",
   "execution_count": 6,
   "metadata": {},
   "outputs": [
    {
     "data": {
      "text/html": [
       "<div>\n",
       "<style scoped>\n",
       "    .dataframe tbody tr th:only-of-type {\n",
       "        vertical-align: middle;\n",
       "    }\n",
       "\n",
       "    .dataframe tbody tr th {\n",
       "        vertical-align: top;\n",
       "    }\n",
       "\n",
       "    .dataframe thead th {\n",
       "        text-align: right;\n",
       "    }\n",
       "</style>\n",
       "<table border=\"1\" class=\"dataframe\">\n",
       "  <thead>\n",
       "    <tr style=\"text-align: right;\">\n",
       "      <th></th>\n",
       "      <th>client_uuid</th>\n",
       "      <th>revenue</th>\n",
       "      <th>utm_source</th>\n",
       "      <th>utm_medium</th>\n",
       "      <th>event_dates</th>\n",
       "      <th>event_timestamps</th>\n",
       "      <th>days_till_conversions</th>\n",
       "      <th>conversion_date</th>\n",
       "      <th>conversion_timestamp</th>\n",
       "      <th>touch</th>\n",
       "    </tr>\n",
       "  </thead>\n",
       "  <tbody>\n",
       "    <tr>\n",
       "      <th>4</th>\n",
       "      <td>162607037084320552</td>\n",
       "      <td>249.99</td>\n",
       "      <td>[synerise, facebook, (direct), (direct), syner...</td>\n",
       "      <td>[organic, cpc, (none), sms_text, organic]</td>\n",
       "      <td>['2019-07-17','2019-07-27','2019-07-27','2019-...</td>\n",
       "      <td>['2019-07-17 08:08:00','2019-07-27 08:32:10','...</td>\n",
       "      <td>[16,6,6,6,6]</td>\n",
       "      <td>2019-08-02</td>\n",
       "      <td>2019-08-02 07:38:58</td>\n",
       "      <td>organic</td>\n",
       "    </tr>\n",
       "    <tr>\n",
       "      <th>6</th>\n",
       "      <td>245479691431714732</td>\n",
       "      <td>173.94</td>\n",
       "      <td>[(direct), google.com, (direct), (direct)]</td>\n",
       "      <td>[(none), referral, sms_text, (none)]</td>\n",
       "      <td>['2019-07-22','2019-07-22','2019-07-22','2019-...</td>\n",
       "      <td>['2019-07-22 07:54:41','2019-07-22 07:57:21','...</td>\n",
       "      <td>[11,11,11,11]</td>\n",
       "      <td>2019-08-02</td>\n",
       "      <td>2019-08-02 17:45:23</td>\n",
       "      <td>(none)</td>\n",
       "    </tr>\n",
       "    <tr>\n",
       "      <th>12</th>\n",
       "      <td>423257530869390002</td>\n",
       "      <td>274.94</td>\n",
       "      <td>[(direct), facebook, google]</td>\n",
       "      <td>[sms_text, cpc, cpc]</td>\n",
       "      <td>['2019-05-31','2019-06-22','2019-06-22']</td>\n",
       "      <td>['2019-05-31 05:38:48','2019-06-22 05:22:16','...</td>\n",
       "      <td>[63,41,41]</td>\n",
       "      <td>2019-08-02</td>\n",
       "      <td>2019-08-02 07:41:15</td>\n",
       "      <td>sms_text</td>\n",
       "    </tr>\n",
       "    <tr>\n",
       "      <th>17</th>\n",
       "      <td>618125321206055252</td>\n",
       "      <td>269.99</td>\n",
       "      <td>[synerise, google, synerise, google, facebook]</td>\n",
       "      <td>[organic, web_push, organic, cpc, cpc]</td>\n",
       "      <td>['2019-07-17','2019-07-17','2019-07-19','2019-...</td>\n",
       "      <td>['2019-07-17 03:56:43','2019-07-17 03:57:26','...</td>\n",
       "      <td>[16,16,14,14,14]</td>\n",
       "      <td>2019-08-02</td>\n",
       "      <td>2019-08-02 12:44:58</td>\n",
       "      <td>organic</td>\n",
       "    </tr>\n",
       "    <tr>\n",
       "      <th>21</th>\n",
       "      <td>853710216256722922</td>\n",
       "      <td>169.80</td>\n",
       "      <td>[synerise]</td>\n",
       "      <td>[organic]</td>\n",
       "      <td>['2019-07-23']</td>\n",
       "      <td>['2019-07-23 09:09:49']</td>\n",
       "      <td>[10]</td>\n",
       "      <td>2019-08-02</td>\n",
       "      <td>2019-08-02 17:44:39</td>\n",
       "      <td>organic</td>\n",
       "    </tr>\n",
       "  </tbody>\n",
       "</table>\n",
       "</div>"
      ],
      "text/plain": [
       "           client_uuid  revenue  \\\n",
       "4   162607037084320552   249.99   \n",
       "6   245479691431714732   173.94   \n",
       "12  423257530869390002   274.94   \n",
       "17  618125321206055252   269.99   \n",
       "21  853710216256722922   169.80   \n",
       "\n",
       "                                           utm_source  \\\n",
       "4   [synerise, facebook, (direct), (direct), syner...   \n",
       "6          [(direct), google.com, (direct), (direct)]   \n",
       "12                       [(direct), facebook, google]   \n",
       "17     [synerise, google, synerise, google, facebook]   \n",
       "21                                         [synerise]   \n",
       "\n",
       "                                   utm_medium  \\\n",
       "4   [organic, cpc, (none), sms_text, organic]   \n",
       "6        [(none), referral, sms_text, (none)]   \n",
       "12                       [sms_text, cpc, cpc]   \n",
       "17     [organic, web_push, organic, cpc, cpc]   \n",
       "21                                  [organic]   \n",
       "\n",
       "                                          event_dates  \\\n",
       "4   ['2019-07-17','2019-07-27','2019-07-27','2019-...   \n",
       "6   ['2019-07-22','2019-07-22','2019-07-22','2019-...   \n",
       "12           ['2019-05-31','2019-06-22','2019-06-22']   \n",
       "17  ['2019-07-17','2019-07-17','2019-07-19','2019-...   \n",
       "21                                     ['2019-07-23']   \n",
       "\n",
       "                                     event_timestamps days_till_conversions  \\\n",
       "4   ['2019-07-17 08:08:00','2019-07-27 08:32:10','...          [16,6,6,6,6]   \n",
       "6   ['2019-07-22 07:54:41','2019-07-22 07:57:21','...         [11,11,11,11]   \n",
       "12  ['2019-05-31 05:38:48','2019-06-22 05:22:16','...            [63,41,41]   \n",
       "17  ['2019-07-17 03:56:43','2019-07-17 03:57:26','...      [16,16,14,14,14]   \n",
       "21                            ['2019-07-23 09:09:49']                  [10]   \n",
       "\n",
       "   conversion_date conversion_timestamp     touch  \n",
       "4       2019-08-02  2019-08-02 07:38:58   organic  \n",
       "6       2019-08-02  2019-08-02 17:45:23    (none)  \n",
       "12      2019-08-02  2019-08-02 07:41:15  sms_text  \n",
       "17      2019-08-02  2019-08-02 12:44:58   organic  \n",
       "21      2019-08-02  2019-08-02 17:44:39   organic  "
      ]
     },
     "execution_count": 6,
     "metadata": {},
     "output_type": "execute_result"
    }
   ],
   "source": [
    "ble.head()"
   ]
  },
  {
   "cell_type": "code",
   "execution_count": 7,
   "metadata": {},
   "outputs": [
    {
     "data": {
      "text/plain": [
       "168523930.30086228"
      ]
     },
     "execution_count": 7,
     "metadata": {},
     "output_type": "execute_result"
    }
   ],
   "source": [
    "ble.revenue.sum()"
   ]
  },
  {
   "cell_type": "code",
   "execution_count": 9,
   "metadata": {},
   "outputs": [],
   "source": [
    "organic = ble[ble.touch=='organic']"
   ]
  },
  {
   "cell_type": "code",
   "execution_count": 10,
   "metadata": {},
   "outputs": [
    {
     "data": {
      "text/plain": [
       "10953544.822811"
      ]
     },
     "execution_count": 10,
     "metadata": {},
     "output_type": "execute_result"
    }
   ],
   "source": [
    "organic.revenue.sum()"
   ]
  },
  {
   "cell_type": "code",
   "execution_count": 12,
   "metadata": {},
   "outputs": [],
   "source": []
  },
  {
   "cell_type": "code",
   "execution_count": 17,
   "metadata": {},
   "outputs": [],
   "source": [
    "def remove_nones(df):\n",
    "    return df[df.touch!='(none)']"
   ]
  },
  {
   "cell_type": "code",
   "execution_count": 18,
   "metadata": {},
   "outputs": [],
   "source": [
    "ble = remove_nones(ble)\n",
    "\n",
    "mediums = ble.touch.unique()\n",
    "revenue_all = ble.revenue.sum()\n",
    "impact = {}\n",
    "for medium in mediums:\n",
    "    revenue_specific = ble[ble.touch==medium].revenue.sum()\n",
    "    impact[medium] = revenue_specific/revenue_all\n",
    "    "
   ]
  },
  {
   "cell_type": "code",
   "execution_count": 19,
   "metadata": {},
   "outputs": [
    {
     "data": {
      "text/plain": [
       "{'organic': 0.14134383410083526,\n",
       " 'sms_text': 0.2234859831287454,\n",
       " 'web_push': 0.1403136644239187,\n",
       " 'cpc': 0.3297748506004031,\n",
       " 'e-mail': 0.1424074234236726,\n",
       " 'referral': 0.02267424432242473}"
      ]
     },
     "execution_count": 19,
     "metadata": {},
     "output_type": "execute_result"
    }
   ],
   "source": [
    "impact"
   ]
  },
  {
   "cell_type": "code",
   "execution_count": 21,
   "metadata": {},
   "outputs": [
    {
     "data": {
      "text/plain": [
       "cpc         49219\n",
       "sms_text    32219\n",
       "e-mail      21352\n",
       "web_push    21090\n",
       "organic     21075\n",
       "referral     2337\n",
       "Name: touch, dtype: int64"
      ]
     },
     "execution_count": 21,
     "metadata": {},
     "output_type": "execute_result"
    }
   ],
   "source": [
    "ble.touch.value_counts()"
   ]
  },
  {
   "cell_type": "code",
   "execution_count": 23,
   "metadata": {},
   "outputs": [
    {
     "data": {
      "text/plain": [
       "{'cpc': 0.3297748506004031,\n",
       " 'sms_text': 0.2234859831287454,\n",
       " 'e-mail': 0.1424074234236726,\n",
       " 'organic': 0.14134383410083526,\n",
       " 'web_push': 0.1403136644239187,\n",
       " 'referral': 0.02267424432242473}"
      ]
     },
     "execution_count": 23,
     "metadata": {},
     "output_type": "execute_result"
    }
   ],
   "source": [
    "{k: v for k, v in sorted(impact.items(), key=lambda item: item[1], reverse=True)}"
   ]
  },
  {
   "cell_type": "code",
   "execution_count": 29,
   "metadata": {},
   "outputs": [
    {
     "data": {
      "text/plain": [
       "{'cpc': 49219,\n",
       " 'sms_text': 32219,\n",
       " 'e-mail': 21352,\n",
       " 'web_push': 21090,\n",
       " 'organic': 21075,\n",
       " 'referral': 2337}"
      ]
     },
     "execution_count": 29,
     "metadata": {},
     "output_type": "execute_result"
    }
   ],
   "source": [
    "rev = ble.touch.value_counts().to_dict()\n",
    "rev"
   ]
  },
  {
   "cell_type": "code",
   "execution_count": null,
   "metadata": {},
   "outputs": [],
   "source": [
    "{k: v for k, v in }"
   ]
  }
 ],
 "metadata": {
  "kernelspec": {
   "display_name": "Python 3",
   "language": "python",
   "name": "python3"
  },
  "language_info": {
   "codemirror_mode": {
    "name": "ipython",
    "version": 3
   },
   "file_extension": ".py",
   "mimetype": "text/x-python",
   "name": "python",
   "nbconvert_exporter": "python",
   "pygments_lexer": "ipython3",
   "version": "3.7.9"
  }
 },
 "nbformat": 4,
 "nbformat_minor": 4
}

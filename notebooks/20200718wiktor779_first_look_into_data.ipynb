{
 "cells": [
  {
   "cell_type": "code",
   "execution_count": 1,
   "metadata": {},
   "outputs": [],
   "source": [
    "import pandas as pd\n",
    "# df = pd.read_csv('../data/01_raw/conversion_paths.csv', nrows=10)\n",
    "df = pd.read_csv('../data/01_raw/conversion_paths.csv')\n",
    "\n",
    "columns_ordered = [\n",
    "    'client_uuid',\n",
    "    'revenue',\n",
    "    'utm_source',\n",
    "    'utm_medium',\n",
    "    'event_dates',\n",
    "    'event_timestamps',\n",
    "    'days_till_conversions',\n",
    "    'conversion_date',\n",
    "    'conversion_timestamp',\n",
    "]\n",
    "df = df[columns_ordered]"
   ]
  },
  {
   "cell_type": "code",
   "execution_count": 2,
   "metadata": {},
   "outputs": [],
   "source": [
    "def create_list_from_string(text):\n",
    "    # \"['word1', 'word2']\" -> ['word1', 'word2'] \n",
    "    \n",
    "    text = text[1:-1]\n",
    "    words = text.split(',')\n",
    "    return [word[1:-1] for word in words]\n",
    "\n",
    "df.utm_source = df.utm_source.apply(create_list_from_string)\n",
    "df.utm_medium = df.utm_medium.apply(create_list_from_string)"
   ]
  },
  {
   "cell_type": "code",
   "execution_count": 3,
   "metadata": {},
   "outputs": [
    {
     "name": "stdout",
     "output_type": "stream",
     "text": [
      "{'synerise', 'bing.com', '(direct)', 'google.com', 'facebook', 'facebook.com', 'google'}\n",
      "{'cpc', 'referral', 'web_push', '(none)', 'e-mail', 'sms_text', 'organic'}\n"
     ]
    }
   ],
   "source": [
    "def get_unique_values(series):\n",
    "    unique = set()\n",
    "    for sources in series:\n",
    "        for source in sources:\n",
    "            unique.add(source)\n",
    "    return unique\n",
    "    \n",
    "print(get_unique_values(df.utm_source))\n",
    "print(get_unique_values(df.utm_medium))"
   ]
  },
  {
   "cell_type": "code",
   "execution_count": 4,
   "metadata": {},
   "outputs": [
    {
     "name": "stdout",
     "output_type": "stream",
     "text": [
      "{'(direct)': 2244862, 'synerise': 188366, 'facebook': 133675, 'google.com': 74579, 'google': 348794, 'facebook.com': 86273, 'bing.com': 89278}\n",
      "{'(none)': 1936219, 'organic': 133364, 'cpc': 321855, 'sms_text': 254714, 'referral': 250130, 'web_push': 132985, 'e-mail': 136560}\n"
     ]
    }
   ],
   "source": [
    "from collections import defaultdict\n",
    "def get_number_of_occurences(series):\n",
    "    occurences = {}\n",
    "    occurences = defaultdict(lambda:0,occurences)\n",
    "    for sources in series:\n",
    "        for source in sources:\n",
    "            occurences[source] += 1\n",
    "    return dict(occurences)\n",
    "\n",
    "source_occ = get_number_of_occurences(df.utm_source)\n",
    "medium_occ = get_number_of_occurences(df.utm_medium)\n",
    "print(source_occ)\n",
    "print(medium_occ)"
   ]
  },
  {
   "cell_type": "code",
   "execution_count": 5,
   "metadata": {},
   "outputs": [
    {
     "data": {
      "text/plain": [
       "{'(none)': 1936219,\n",
       " 'organic': 133364,\n",
       " 'cpc': 321855,\n",
       " 'sms_text': 254714,\n",
       " 'referral': 250130,\n",
       " 'web_push': 132985,\n",
       " 'e-mail': 136560}"
      ]
     },
     "execution_count": 5,
     "metadata": {},
     "output_type": "execute_result"
    }
   ],
   "source": [
    "medium_occ"
   ]
  },
  {
   "cell_type": "code",
   "execution_count": 6,
   "metadata": {},
   "outputs": [
    {
     "ename": "ModuleNotFoundError",
     "evalue": "No module named 'matplotlib'",
     "output_type": "error",
     "traceback": [
      "\u001b[0;31m---------------------------------------------------------------------------\u001b[0m",
      "\u001b[0;31mModuleNotFoundError\u001b[0m                       Traceback (most recent call last)",
      "\u001b[0;32m<ipython-input-6-64e087fec952>\u001b[0m in \u001b[0;36m<module>\u001b[0;34m\u001b[0m\n\u001b[0;32m----> 1\u001b[0;31m \u001b[0;32mimport\u001b[0m \u001b[0mmatplotlib\u001b[0m\u001b[0;34m.\u001b[0m\u001b[0mpyplot\u001b[0m \u001b[0;32mas\u001b[0m \u001b[0mplt\u001b[0m\u001b[0;34m\u001b[0m\u001b[0;34m\u001b[0m\u001b[0m\n\u001b[0m\u001b[1;32m      2\u001b[0m \u001b[0;32mdef\u001b[0m \u001b[0mplot_number_of_occurences\u001b[0m\u001b[0;34m(\u001b[0m\u001b[0mD\u001b[0m\u001b[0;34m)\u001b[0m\u001b[0;34m:\u001b[0m\u001b[0;34m\u001b[0m\u001b[0;34m\u001b[0m\u001b[0m\n\u001b[1;32m      3\u001b[0m     \u001b[0mplt\u001b[0m\u001b[0;34m.\u001b[0m\u001b[0mrcParams\u001b[0m\u001b[0;34m[\u001b[0m\u001b[0;34m\"figure.figsize\"\u001b[0m\u001b[0;34m]\u001b[0m\u001b[0;34m=\u001b[0m\u001b[0;36m20\u001b[0m\u001b[0;34m,\u001b[0m\u001b[0;36m10\u001b[0m\u001b[0;34m\u001b[0m\u001b[0;34m\u001b[0m\u001b[0m\n\u001b[1;32m      4\u001b[0m \u001b[0;34m\u001b[0m\u001b[0m\n\u001b[1;32m      5\u001b[0m     \u001b[0mplt\u001b[0m\u001b[0;34m.\u001b[0m\u001b[0mbar\u001b[0m\u001b[0;34m(\u001b[0m\u001b[0mrange\u001b[0m\u001b[0;34m(\u001b[0m\u001b[0mlen\u001b[0m\u001b[0;34m(\u001b[0m\u001b[0mD\u001b[0m\u001b[0;34m)\u001b[0m\u001b[0;34m)\u001b[0m\u001b[0;34m,\u001b[0m \u001b[0mlist\u001b[0m\u001b[0;34m(\u001b[0m\u001b[0mD\u001b[0m\u001b[0;34m.\u001b[0m\u001b[0mvalues\u001b[0m\u001b[0;34m(\u001b[0m\u001b[0;34m)\u001b[0m\u001b[0;34m)\u001b[0m\u001b[0;34m,\u001b[0m \u001b[0malign\u001b[0m\u001b[0;34m=\u001b[0m\u001b[0;34m'center'\u001b[0m\u001b[0;34m)\u001b[0m\u001b[0;34m\u001b[0m\u001b[0;34m\u001b[0m\u001b[0m\n",
      "\u001b[0;31mModuleNotFoundError\u001b[0m: No module named 'matplotlib'"
     ]
    }
   ],
   "source": [
    "import matplotlib.pyplot as plt\n",
    "def plot_number_of_occurences(D):\n",
    "    plt.rcParams[\"figure.figsize\"]=20,10\n",
    "\n",
    "    plt.bar(range(len(D)), list(D.values()), align='center')\n",
    "    plt.xticks(range(len(D)), list(D.keys()))\n",
    "\n",
    "    plt.show()\n",
    "    "
   ]
  },
  {
   "cell_type": "code",
   "execution_count": null,
   "metadata": {},
   "outputs": [],
   "source": [
    "plot_number_of_occurences(source_occ)"
   ]
  },
  {
   "cell_type": "code",
   "execution_count": null,
   "metadata": {},
   "outputs": [],
   "source": [
    "plot_number_of_occurences(medium_occ)"
   ]
  },
  {
   "cell_type": "code",
   "execution_count": 7,
   "metadata": {},
   "outputs": [
    {
     "data": {
      "text/html": [
       "<div>\n",
       "<style scoped>\n",
       "    .dataframe tbody tr th:only-of-type {\n",
       "        vertical-align: middle;\n",
       "    }\n",
       "\n",
       "    .dataframe tbody tr th {\n",
       "        vertical-align: top;\n",
       "    }\n",
       "\n",
       "    .dataframe thead th {\n",
       "        text-align: right;\n",
       "    }\n",
       "</style>\n",
       "<table border=\"1\" class=\"dataframe\">\n",
       "  <thead>\n",
       "    <tr style=\"text-align: right;\">\n",
       "      <th></th>\n",
       "      <th>client_uuid</th>\n",
       "      <th>revenue</th>\n",
       "      <th>utm_source</th>\n",
       "      <th>utm_medium</th>\n",
       "      <th>event_dates</th>\n",
       "      <th>event_timestamps</th>\n",
       "      <th>days_till_conversions</th>\n",
       "      <th>conversion_date</th>\n",
       "      <th>conversion_timestamp</th>\n",
       "    </tr>\n",
       "  </thead>\n",
       "  <tbody>\n",
       "    <tr>\n",
       "      <th>0</th>\n",
       "      <td>46843260447612932</td>\n",
       "      <td>1597.00</td>\n",
       "      <td>[(direct)]</td>\n",
       "      <td>[(none)]</td>\n",
       "      <td>['2019-08-02']</td>\n",
       "      <td>['2019-08-02 01:36:17']</td>\n",
       "      <td>[0]</td>\n",
       "      <td>2019-08-02</td>\n",
       "      <td>2019-08-02 01:36:17</td>\n",
       "    </tr>\n",
       "    <tr>\n",
       "      <th>1</th>\n",
       "      <td>73937596961622962</td>\n",
       "      <td>34.99</td>\n",
       "      <td>[(direct)]</td>\n",
       "      <td>[(none)]</td>\n",
       "      <td>['2019-07-19']</td>\n",
       "      <td>['2019-07-19 15:27:24']</td>\n",
       "      <td>[14]</td>\n",
       "      <td>2019-08-02</td>\n",
       "      <td>2019-08-02 21:08:16</td>\n",
       "    </tr>\n",
       "    <tr>\n",
       "      <th>2</th>\n",
       "      <td>94396730975196822</td>\n",
       "      <td>35.99</td>\n",
       "      <td>[(direct)]</td>\n",
       "      <td>[(none)]</td>\n",
       "      <td>['2019-08-02']</td>\n",
       "      <td>['2019-08-02 09:38:21']</td>\n",
       "      <td>[0]</td>\n",
       "      <td>2019-08-02</td>\n",
       "      <td>2019-08-02 09:38:21</td>\n",
       "    </tr>\n",
       "    <tr>\n",
       "      <th>3</th>\n",
       "      <td>125013537097955872</td>\n",
       "      <td>34.99</td>\n",
       "      <td>[(direct)]</td>\n",
       "      <td>[(none)]</td>\n",
       "      <td>['2019-08-02']</td>\n",
       "      <td>['2019-08-02 15:15:40']</td>\n",
       "      <td>[0]</td>\n",
       "      <td>2019-08-02</td>\n",
       "      <td>2019-08-02 15:15:40</td>\n",
       "    </tr>\n",
       "    <tr>\n",
       "      <th>4</th>\n",
       "      <td>162607037084320552</td>\n",
       "      <td>249.99</td>\n",
       "      <td>[synerise, facebook, (direct), (direct), syner...</td>\n",
       "      <td>[organic, cpc, (none), sms_text, organic]</td>\n",
       "      <td>['2019-07-17','2019-07-27','2019-07-27','2019-...</td>\n",
       "      <td>['2019-07-17 08:08:00','2019-07-27 08:32:10','...</td>\n",
       "      <td>[16,6,6,6,6]</td>\n",
       "      <td>2019-08-02</td>\n",
       "      <td>2019-08-02 07:38:58</td>\n",
       "    </tr>\n",
       "  </tbody>\n",
       "</table>\n",
       "</div>"
      ],
      "text/plain": [
       "          client_uuid  revenue  \\\n",
       "0   46843260447612932  1597.00   \n",
       "1   73937596961622962    34.99   \n",
       "2   94396730975196822    35.99   \n",
       "3  125013537097955872    34.99   \n",
       "4  162607037084320552   249.99   \n",
       "\n",
       "                                          utm_source  \\\n",
       "0                                         [(direct)]   \n",
       "1                                         [(direct)]   \n",
       "2                                         [(direct)]   \n",
       "3                                         [(direct)]   \n",
       "4  [synerise, facebook, (direct), (direct), syner...   \n",
       "\n",
       "                                  utm_medium  \\\n",
       "0                                   [(none)]   \n",
       "1                                   [(none)]   \n",
       "2                                   [(none)]   \n",
       "3                                   [(none)]   \n",
       "4  [organic, cpc, (none), sms_text, organic]   \n",
       "\n",
       "                                         event_dates  \\\n",
       "0                                     ['2019-08-02']   \n",
       "1                                     ['2019-07-19']   \n",
       "2                                     ['2019-08-02']   \n",
       "3                                     ['2019-08-02']   \n",
       "4  ['2019-07-17','2019-07-27','2019-07-27','2019-...   \n",
       "\n",
       "                                    event_timestamps days_till_conversions  \\\n",
       "0                            ['2019-08-02 01:36:17']                   [0]   \n",
       "1                            ['2019-07-19 15:27:24']                  [14]   \n",
       "2                            ['2019-08-02 09:38:21']                   [0]   \n",
       "3                            ['2019-08-02 15:15:40']                   [0]   \n",
       "4  ['2019-07-17 08:08:00','2019-07-27 08:32:10','...          [16,6,6,6,6]   \n",
       "\n",
       "  conversion_date conversion_timestamp  \n",
       "0      2019-08-02  2019-08-02 01:36:17  \n",
       "1      2019-08-02  2019-08-02 21:08:16  \n",
       "2      2019-08-02  2019-08-02 09:38:21  \n",
       "3      2019-08-02  2019-08-02 15:15:40  \n",
       "4      2019-08-02  2019-08-02 07:38:58  "
      ]
     },
     "execution_count": 7,
     "metadata": {},
     "output_type": "execute_result"
    }
   ],
   "source": [
    "df.head()"
   ]
  },
  {
   "cell_type": "code",
   "execution_count": null,
   "metadata": {},
   "outputs": [],
   "source": []
  }
 ],
 "metadata": {
  "kernelspec": {
   "display_name": "Python 3",
   "language": "python",
   "name": "python3"
  },
  "language_info": {
   "codemirror_mode": {
    "name": "ipython",
    "version": 3
   },
   "file_extension": ".py",
   "mimetype": "text/x-python",
   "name": "python",
   "nbconvert_exporter": "python",
   "pygments_lexer": "ipython3",
   "version": "3.7.9"
  }
 },
 "nbformat": 4,
 "nbformat_minor": 4
}
